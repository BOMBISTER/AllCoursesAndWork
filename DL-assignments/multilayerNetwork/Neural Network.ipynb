{
 "cells": [
  {
   "cell_type": "markdown",
   "metadata": {},
   "source": [
    "# Задание 2.1 - Нейронные сети\n",
    "\n",
    "В этом задании вы реализуете и натренируете настоящую нейроную сеть своими руками!\n",
    "\n",
    "В некотором смысле это будет расширением прошлого задания - нам нужно просто составить несколько линейных классификаторов вместе!\n",
    "\n",
    "<img src=\"https://i.redd.it/n9fgba8b0qr01.png\" alt=\"Stack_more_layers\" width=\"400px\"/>"
   ]
  },
  {
   "cell_type": "code",
   "execution_count": 1,
   "metadata": {},
   "outputs": [],
   "source": [
    "import numpy as np\n",
    "import matplotlib.pyplot as plt\n",
    "\n",
    "%matplotlib inline\n",
    "\n",
    "%load_ext autoreload\n",
    "%autoreload 2"
   ]
  },
  {
   "cell_type": "code",
   "execution_count": 2,
   "metadata": {},
   "outputs": [],
   "source": [
    "from dataset import load_svhn, random_split_train_val\n",
    "from gradient_check import check_layer_gradient, check_layer_param_gradient, check_model_gradient\n",
    "from layers import FullyConnectedLayer, ReLULayer\n",
    "from model import TwoLayerNet\n",
    "from trainer import Trainer, Dataset\n",
    "from optim import SGD, MomentumSGD\n",
    "from metrics import multiclass_accuracy"
   ]
  },
  {
   "cell_type": "markdown",
   "metadata": {},
   "source": [
    "# Загружаем данные\n",
    "\n",
    "И разделяем их на training и validation."
   ]
  },
  {
   "cell_type": "code",
   "execution_count": 4,
   "metadata": {},
   "outputs": [],
   "source": [
    "def prepare_for_neural_network(train_X, test_X):\n",
    "    train_flat = train_X.reshape(train_X.shape[0], -1).astype(float) / 255.0\n",
    "    test_flat = test_X.reshape(test_X.shape[0], -1).astype(float) / 255.0\n",
    "    \n",
    "    # Subtract mean\n",
    "    mean_image = np.mean(train_flat, axis = 0)\n",
    "    train_flat -= mean_image\n",
    "    test_flat -= mean_image\n",
    "    \n",
    "    return train_flat, test_flat\n",
    "    \n",
    "train_X, train_y, test_X, test_y = load_svhn(\"data\", max_train=10000, max_test=1000)    \n",
    "train_X, test_X = prepare_for_neural_network(train_X, test_X)\n",
    "# Split train into train and val\n",
    "train_X, train_y, val_X, val_y = random_split_train_val(train_X, train_y, num_val = 1000)"
   ]
  },
  {
   "cell_type": "markdown",
   "metadata": {},
   "source": [
    "# Как всегда, начинаем с кирпичиков\n",
    "\n",
    "Мы будем реализовывать необходимые нам слои по очереди. Каждый слой должен реализовать:\n",
    "- прямой проход (forward pass), который генерирует выход слоя по входу и запоминает необходимые данные\n",
    "- обратный проход (backward pass), который получает градиент по выходу слоя и вычисляет градиент по входу и по параметрам\n",
    "\n",
    "Начнем с ReLU, у которого параметров нет."
   ]
  },
  {
   "cell_type": "code",
   "execution_count": 6,
   "metadata": {},
   "outputs": [
    {
     "name": "stdout",
     "output_type": "stream",
     "text": [
      "Gradient check passed!\n"
     ]
    }
   ],
   "source": [
    "# TODO: Implement ReLULayer layer in layers.py\n",
    "# Note: you'll need to copy implementation of the gradient_check function from the previous assignment\n",
    "\n",
    "X = np.array([[1,-2,3],\n",
    "              [-1, 2, 0.1]\n",
    "              ])\n",
    "\n",
    "assert check_layer_gradient(ReLULayer(), X)"
   ]
  },
  {
   "cell_type": "markdown",
   "metadata": {},
   "source": [
    "А теперь реализуем полносвязный слой (fully connected layer), у которого будет два массива параметров: W (weights) и B (bias).\n",
    "\n",
    "Все параметры наши слои будут использовать для параметров специальный класс `Param`, в котором будут храниться значения параметров и градиенты этих параметров, вычисляемые во время обратного прохода.\n",
    "\n",
    "Это даст возможность аккумулировать (суммировать) градиенты из разных частей функции потерь, например, из cross-entropy loss и regularization loss."
   ]
  },
  {
   "cell_type": "code",
   "execution_count": 8,
   "metadata": {},
   "outputs": [
    {
     "name": "stdout",
     "output_type": "stream",
     "text": [
      "Gradient check passed!\n",
      "Gradient check passed!\n",
      "Gradient check passed!\n"
     ]
    }
   ],
   "source": [
    "# TODO: Implement FullyConnected layer forward and backward methods\n",
    "assert check_layer_gradient(FullyConnectedLayer(3, 4), X)\n",
    "# TODO: Implement storing gradients for W and B\n",
    "assert check_layer_param_gradient(FullyConnectedLayer(3, 4), X, 'W')\n",
    "assert check_layer_param_gradient(FullyConnectedLayer(3, 4), X, 'B')"
   ]
  },
  {
   "cell_type": "markdown",
   "metadata": {},
   "source": [
    "## Создаем нейронную сеть\n",
    "\n",
    "Теперь мы реализуем простейшую нейронную сеть с двумя полносвязным слоями и нелинейностью ReLU. Реализуйте функцию `compute_loss_and_gradients`, она должна запустить прямой и обратный проход через оба слоя для вычисления градиентов.\n",
    "\n",
    "Не забудьте реализовать очистку градиентов в начале функции."
   ]
  },
  {
   "cell_type": "code",
   "execution_count": 13,
   "metadata": {},
   "outputs": [
    {
     "name": "stdout",
     "output_type": "stream",
     "text": [
      "Checking gradient for W_out\n",
      "Gradient check passed!\n",
      "Checking gradient for W_in\n",
      "Gradient check passed!\n",
      "Checking gradient for B_out\n",
      "Gradient check passed!\n",
      "Checking gradient for B_in\n",
      "Gradient check passed!\n"
     ]
    },
    {
     "data": {
      "text/plain": [
       "True"
      ]
     },
     "execution_count": 13,
     "metadata": {},
     "output_type": "execute_result"
    }
   ],
   "source": [
    "# TODO: In model.py, implement compute_loss_and_gradients function\n",
    "model = TwoLayerNet(n_input = train_X.shape[1], n_output = 10, hidden_layer_size = 3, reg = 0)\n",
    "loss = model.compute_loss_and_gradients(train_X[:2], train_y[:2])\n",
    "\n",
    "# TODO Now implement backward pass and aggregate all of the params\n",
    "check_model_gradient(model, train_X[:2], train_y[:2])"
   ]
  },
  {
   "cell_type": "markdown",
   "metadata": {},
   "source": [
    "Теперь добавьте к модели регуляризацию - она должна прибавляться к loss и делать свой вклад в градиенты."
   ]
  },
  {
   "cell_type": "code",
   "execution_count": 14,
   "metadata": {},
   "outputs": [
    {
     "name": "stdout",
     "output_type": "stream",
     "text": [
      "Checking gradient for W_out\n",
      "Gradient check passed!\n",
      "Checking gradient for W_in\n",
      "Gradient check passed!\n",
      "Checking gradient for B_out\n",
      "Gradient check passed!\n",
      "Checking gradient for B_in\n",
      "Gradient check passed!\n"
     ]
    },
    {
     "data": {
      "text/plain": [
       "True"
      ]
     },
     "execution_count": 14,
     "metadata": {},
     "output_type": "execute_result"
    }
   ],
   "source": [
    "# TODO Now implement l2 regularization in the forward and backward pass\n",
    "model_with_reg = TwoLayerNet(n_input = train_X.shape[1], n_output = 10, hidden_layer_size = 3, reg = 1e-1)\n",
    "loss_with_reg = model_with_reg.compute_loss_and_gradients(train_X[:2], train_y[:2])\n",
    "assert loss_with_reg > loss and not np.isclose(loss_with_reg, loss), \\\n",
    "    \"Loss with regularization (%2.4f) should be higher than without it (%2.4f)!\" % (loss, loss_with_reg)\n",
    "\n",
    "check_model_gradient(model_with_reg, train_X[:2], train_y[:2])"
   ]
  },
  {
   "cell_type": "markdown",
   "metadata": {},
   "source": [
    "Также реализуем функцию предсказания (вычисления значения) модели на новых данных.\n",
    "\n",
    "Какое значение точности мы ожидаем увидеть до начала тренировки?"
   ]
  },
  {
   "cell_type": "code",
   "execution_count": 15,
   "metadata": {},
   "outputs": [
    {
     "data": {
      "text/plain": [
       "np.float64(0.16666666666666666)"
      ]
     },
     "execution_count": 15,
     "metadata": {},
     "output_type": "execute_result"
    }
   ],
   "source": [
    "# Finally, implement predict function!\n",
    "\n",
    "# TODO: Implement predict function\n",
    "# What would be the value we expect?\n",
    "multiclass_accuracy(model_with_reg.predict(train_X[:30]), train_y[:30]) "
   ]
  },
  {
   "cell_type": "markdown",
   "metadata": {},
   "source": [
    "# Допишем код для процесса тренировки\n",
    "\n",
    "Если все реализовано корректно, значение функции ошибки должно уменьшаться с каждой эпохой, пусть и медленно. Не беспокойтесь пока про validation accuracy."
   ]
  },
  {
   "cell_type": "code",
   "execution_count": 19,
   "metadata": {},
   "outputs": [
    {
     "name": "stdout",
     "output_type": "stream",
     "text": [
      "Loss: 2.302342, Train accuracy: 0.196667, val accuracy: 0.206000\n",
      "Loss: 2.302354, Train accuracy: 0.196667, val accuracy: 0.206000\n",
      "Loss: 2.301797, Train accuracy: 0.148222, val accuracy: 0.140000\n",
      "Loss: 2.301307, Train accuracy: 0.196667, val accuracy: 0.206000\n",
      "Loss: 2.301620, Train accuracy: 0.196667, val accuracy: 0.206000\n",
      "Loss: 2.302312, Train accuracy: 0.196667, val accuracy: 0.206000\n",
      "Loss: 2.301980, Train accuracy: 0.196667, val accuracy: 0.206000\n",
      "Loss: 2.302229, Train accuracy: 0.196667, val accuracy: 0.206000\n",
      "Loss: 2.303341, Train accuracy: 0.196667, val accuracy: 0.206000\n",
      "Loss: 2.302414, Train accuracy: 0.196667, val accuracy: 0.206000\n",
      "Loss: 2.301055, Train accuracy: 0.196667, val accuracy: 0.206000\n",
      "Loss: 2.301049, Train accuracy: 0.196667, val accuracy: 0.206000\n",
      "Loss: 2.301840, Train accuracy: 0.196667, val accuracy: 0.206000\n",
      "Loss: 2.302579, Train accuracy: 0.196667, val accuracy: 0.206000\n",
      "Loss: 2.303403, Train accuracy: 0.196667, val accuracy: 0.206000\n",
      "Loss: 2.302045, Train accuracy: 0.148222, val accuracy: 0.140000\n",
      "Loss: 2.301542, Train accuracy: 0.196667, val accuracy: 0.206000\n",
      "Loss: 2.302949, Train accuracy: 0.196667, val accuracy: 0.206000\n",
      "Loss: 2.302585, Train accuracy: 0.196667, val accuracy: 0.206000\n",
      "Loss: 2.302056, Train accuracy: 0.196667, val accuracy: 0.206000\n"
     ]
    }
   ],
   "source": [
    "model = TwoLayerNet(n_input = train_X.shape[1], n_output = 10, hidden_layer_size = 100, reg = 1e-1)\n",
    "dataset = Dataset(train_X, train_y, val_X, val_y)\n",
    "trainer = Trainer(model, dataset, SGD(), learning_rate = 1e-2)\n",
    "\n",
    "# TODO Implement missing pieces in Trainer.fit function\n",
    "# You should expect loss to go down every epoch, even if it's slow\n",
    "loss_history, train_history, val_history = trainer.fit()"
   ]
  },
  {
   "cell_type": "code",
   "execution_count": 21,
   "metadata": {},
   "outputs": [
    {
     "data": {
      "text/plain": [
       "[<matplotlib.lines.Line2D at 0x1fdbdeb0fb0>]"
      ]
     },
     "execution_count": 21,
     "metadata": {},
     "output_type": "execute_result"
    },
    {
     "data": {
      "image/png": "[encoded data removed]",
      "text/plain": [
       "<Figure size 640x480 with 1 Axes>"
      ]
     },
     "metadata": {},
     "output_type": "display_data"
    }
   ],
   "source": [
    "plt.plot(train_history)\n",
    "plt.plot(val_history)"
   ]
  },
  {
   "cell_type": "markdown",
   "metadata": {},
   "source": [
    "# Улучшаем процесс тренировки\n",
    "\n",
    "Мы реализуем несколько ключевых оптимизаций, необходимых для тренировки современных нейросетей."
   ]
  },
  {
   "cell_type": "markdown",
   "metadata": {},
   "source": [
    "## Уменьшение скорости обучения (learning rate decay)\n",
    "\n",
    "Одна из необходимых оптимизаций во время тренировки нейронных сетей - постепенное уменьшение скорости обучения по мере тренировки.\n",
    "\n",
    "Один из стандартных методов - уменьшение скорости обучения (learning rate) каждые N эпох на коэффициент d (часто называемый decay). Значения N и d, как всегда, являются гиперпараметрами и должны подбираться на основе эффективности на проверочных данных (validation data). \n",
    "\n",
    "В нашем случае N будет равным 1."
   ]
  },
  {
   "cell_type": "code",
   "execution_count": 23,
   "metadata": {},
   "outputs": [
    {
     "name": "stdout",
     "output_type": "stream",
     "text": [
      "Loss: 2.301600, Train accuracy: 0.196667, val accuracy: 0.206000\n",
      "Loss: 2.302920, Train accuracy: 0.196667, val accuracy: 0.206000\n",
      "Loss: 2.301643, Train accuracy: 0.196667, val accuracy: 0.206000\n",
      "Loss: 2.302416, Train accuracy: 0.196667, val accuracy: 0.206000\n",
      "Loss: 2.302808, Train accuracy: 0.196667, val accuracy: 0.206000\n",
      "Loss: 2.302545, Train accuracy: 0.196667, val accuracy: 0.206000\n",
      "Loss: 2.302576, Train accuracy: 0.148222, val accuracy: 0.140000\n",
      "Loss: 2.301650, Train accuracy: 0.196667, val accuracy: 0.206000\n",
      "Loss: 2.301992, Train accuracy: 0.196667, val accuracy: 0.206000\n",
      "Loss: 2.301690, Train accuracy: 0.196667, val accuracy: 0.206000\n",
      "Loss: 2.301795, Train accuracy: 0.196667, val accuracy: 0.206000\n",
      "Loss: 2.301620, Train accuracy: 0.196667, val accuracy: 0.206000\n",
      "Loss: 2.302401, Train accuracy: 0.148222, val accuracy: 0.140000\n",
      "Loss: 2.302000, Train accuracy: 0.196667, val accuracy: 0.206000\n",
      "Loss: 2.302178, Train accuracy: 0.196667, val accuracy: 0.206000\n",
      "Loss: 2.302074, Train accuracy: 0.196667, val accuracy: 0.206000\n",
      "Loss: 2.301366, Train accuracy: 0.196667, val accuracy: 0.206000\n",
      "Loss: 2.302290, Train accuracy: 0.196667, val accuracy: 0.206000\n",
      "Loss: 2.302808, Train accuracy: 0.196667, val accuracy: 0.206000\n",
      "Loss: 2.302888, Train accuracy: 0.196667, val accuracy: 0.206000\n"
     ]
    }
   ],
   "source": [
    "# TODO Implement learning rate decay inside Trainer.fit method\n",
    "# Decay should happen once per epoch\n",
    "\n",
    "model = TwoLayerNet(n_input = train_X.shape[1], n_output = 10, hidden_layer_size = 100, reg = 1e-1)\n",
    "dataset = Dataset(train_X, train_y, val_X, val_y)\n",
    "trainer = Trainer(model, dataset, SGD(), learning_rate_decay=0.99)\n",
    "\n",
    "initial_learning_rate = trainer.learning_rate\n",
    "loss_history, train_history, val_history = trainer.fit()\n",
    "\n",
    "assert trainer.learning_rate < initial_learning_rate, \"Learning rate should've been reduced\"\n",
    "assert trainer.learning_rate > 0.5*initial_learning_rate, \"Learning rate shouldn'tve been reduced that much!\""
   ]
  },
  {
   "cell_type": "markdown",
   "metadata": {},
   "source": [
    "# Накопление импульса (Momentum SGD)\n",
    "\n",
    "Другой большой класс оптимизаций - использование более эффективных методов градиентного спуска. Мы реализуем один из них - накопление импульса (Momentum SGD).\n",
    "\n",
    "Этот метод хранит скорость движения, использует градиент для ее изменения на каждом шаге, и изменяет веса пропорционально значению скорости.\n",
    "(Физическая аналогия: Вместо скорости градиенты теперь будут задавать ускорение, но будет присутствовать сила трения.)\n",
    "\n",
    "```\n",
    "velocity = momentum * velocity - learning_rate * gradient \n",
    "w = w + velocity\n",
    "```\n",
    "\n",
    "`momentum` здесь коэффициент затухания, который тоже является гиперпараметром (к счастью, для него часто есть хорошее значение по умолчанию, типичный диапазон -- 0.8-0.99).\n",
    "\n",
    "Несколько полезных ссылок, где метод разбирается более подробно:  \n",
    "http://cs231n.github.io/neural-networks-3/#sgd  \n",
    "https://distill.pub/2017/momentum/"
   ]
  },
  {
   "cell_type": "code",
   "execution_count": 27,
   "metadata": {},
   "outputs": [
    {
     "name": "stdout",
     "output_type": "stream",
     "text": [
      "Loss: 2.302756, Train accuracy: 0.196667, val accuracy: 0.206000\n",
      "Loss: 2.303038, Train accuracy: 0.196667, val accuracy: 0.206000\n",
      "Loss: 2.301894, Train accuracy: 0.196667, val accuracy: 0.206000\n",
      "Loss: 2.301875, Train accuracy: 0.196667, val accuracy: 0.206000\n",
      "Loss: 2.301484, Train accuracy: 0.196667, val accuracy: 0.206000\n",
      "Loss: 2.302012, Train accuracy: 0.196667, val accuracy: 0.206000\n",
      "Loss: 2.302237, Train accuracy: 0.196667, val accuracy: 0.206000\n",
      "Loss: 2.301525, Train accuracy: 0.196667, val accuracy: 0.206000\n",
      "Loss: 2.302084, Train accuracy: 0.196667, val accuracy: 0.206000\n",
      "Loss: 2.302568, Train accuracy: 0.196667, val accuracy: 0.206000\n",
      "Loss: 2.301443, Train accuracy: 0.196667, val accuracy: 0.206000\n",
      "Loss: 2.302102, Train accuracy: 0.196667, val accuracy: 0.206000\n",
      "Loss: 2.301922, Train accuracy: 0.196667, val accuracy: 0.206000\n",
      "Loss: 2.301824, Train accuracy: 0.196667, val accuracy: 0.206000\n",
      "Loss: 2.302041, Train accuracy: 0.196667, val accuracy: 0.206000\n",
      "Loss: 2.303105, Train accuracy: 0.196667, val accuracy: 0.206000\n",
      "Loss: 2.301714, Train accuracy: 0.196667, val accuracy: 0.206000\n",
      "Loss: 2.302327, Train accuracy: 0.196667, val accuracy: 0.206000\n",
      "Loss: 2.302292, Train accuracy: 0.196667, val accuracy: 0.206000\n",
      "Loss: 2.302003, Train accuracy: 0.196667, val accuracy: 0.206000\n"
     ]
    }
   ],
   "source": [
    "# TODO: Implement MomentumSGD.update function in optim.py\n",
    "\n",
    "model = TwoLayerNet(n_input = train_X.shape[1], n_output = 10, hidden_layer_size = 100, reg = 1e-1)\n",
    "dataset = Dataset(train_X, train_y, val_X, val_y)\n",
    "trainer = Trainer(model, dataset, MomentumSGD(), learning_rate=1e-4, learning_rate_decay=0.99)\n",
    "\n",
    "# You should see even better results than before!\n",
    "loss_history, train_history, val_history = trainer.fit()"
   ]
  },
  {
   "cell_type": "markdown",
   "metadata": {},
   "source": [
    "# Ну что, давайте уже тренировать сеть!"
   ]
  },
  {
   "cell_type": "markdown",
   "metadata": {},
   "source": [
    "## Последний тест - переобучимся (overfit) на маленьком наборе данных\n",
    "\n",
    "Хороший способ проверить, все ли реализовано корректно - переобучить сеть на маленьком наборе данных.  \n",
    "Наша модель обладает достаточной мощностью, чтобы приблизить маленький набор данных идеально, поэтому мы ожидаем, что на нем мы быстро дойдем до 100% точности на тренировочном наборе. \n",
    "\n",
    "Если этого не происходит, то где-то была допущена ошибка!"
   ]
  },
  {
   "cell_type": "code",
   "execution_count": 30,
   "metadata": {},
   "outputs": [
    {
     "name": "stdout",
     "output_type": "stream",
     "text": [
      "Loss: 2.335657, Train accuracy: 0.200000, val accuracy: 0.066667\n",
      "Loss: 2.304470, Train accuracy: 0.200000, val accuracy: 0.066667\n",
      "Loss: 2.307090, Train accuracy: 0.333333, val accuracy: 0.066667\n",
      "Loss: 2.302506, Train accuracy: 0.266667, val accuracy: 0.000000\n",
      "Loss: 2.282610, Train accuracy: 0.200000, val accuracy: 0.133333\n",
      "Loss: 2.281317, Train accuracy: 0.200000, val accuracy: 0.133333\n",
      "Loss: 2.261277, Train accuracy: 0.200000, val accuracy: 0.066667\n",
      "Loss: 2.261431, Train accuracy: 0.266667, val accuracy: 0.000000\n",
      "Loss: 2.177811, Train accuracy: 0.400000, val accuracy: 0.000000\n",
      "Loss: 1.918175, Train accuracy: 0.400000, val accuracy: 0.000000\n",
      "Loss: 2.090504, Train accuracy: 0.400000, val accuracy: 0.000000\n",
      "Loss: 1.724879, Train accuracy: 0.400000, val accuracy: 0.000000\n",
      "Loss: 1.811462, Train accuracy: 0.333333, val accuracy: 0.000000\n",
      "Loss: 2.195659, Train accuracy: 0.400000, val accuracy: 0.000000\n",
      "Loss: 1.882450, Train accuracy: 0.333333, val accuracy: 0.000000\n",
      "Loss: 1.950877, Train accuracy: 0.333333, val accuracy: 0.000000\n",
      "Loss: 1.672133, Train accuracy: 0.333333, val accuracy: 0.000000\n",
      "Loss: 1.672084, Train accuracy: 0.400000, val accuracy: 0.000000\n",
      "Loss: 1.774256, Train accuracy: 0.400000, val accuracy: 0.000000\n",
      "Loss: 1.505433, Train accuracy: 0.400000, val accuracy: 0.000000\n",
      "Loss: 1.904448, Train accuracy: 0.400000, val accuracy: 0.000000\n",
      "Loss: 1.610720, Train accuracy: 0.400000, val accuracy: 0.000000\n",
      "Loss: 2.058646, Train accuracy: 0.400000, val accuracy: 0.066667\n",
      "Loss: 1.506455, Train accuracy: 0.466667, val accuracy: 0.000000\n",
      "Loss: 1.835716, Train accuracy: 0.466667, val accuracy: 0.066667\n",
      "Loss: 1.734992, Train accuracy: 0.466667, val accuracy: 0.000000\n",
      "Loss: 1.517120, Train accuracy: 0.466667, val accuracy: 0.066667\n",
      "Loss: 1.466574, Train accuracy: 0.466667, val accuracy: 0.066667\n",
      "Loss: 1.792763, Train accuracy: 0.466667, val accuracy: 0.066667\n",
      "Loss: 1.704205, Train accuracy: 0.466667, val accuracy: 0.000000\n",
      "Loss: 2.019267, Train accuracy: 0.533333, val accuracy: 0.066667\n",
      "Loss: 2.070403, Train accuracy: 0.666667, val accuracy: 0.066667\n",
      "Loss: 1.149745, Train accuracy: 0.600000, val accuracy: 0.066667\n",
      "Loss: 1.464534, Train accuracy: 0.666667, val accuracy: 0.066667\n",
      "Loss: 2.065465, Train accuracy: 0.666667, val accuracy: 0.066667\n",
      "Loss: 1.170398, Train accuracy: 0.666667, val accuracy: 0.066667\n",
      "Loss: 1.785782, Train accuracy: 0.666667, val accuracy: 0.066667\n",
      "Loss: 1.705493, Train accuracy: 0.600000, val accuracy: 0.066667\n",
      "Loss: 1.600556, Train accuracy: 0.666667, val accuracy: 0.066667\n",
      "Loss: 2.221477, Train accuracy: 0.733333, val accuracy: 0.066667\n",
      "Loss: 1.399217, Train accuracy: 0.666667, val accuracy: 0.066667\n",
      "Loss: 1.342110, Train accuracy: 0.666667, val accuracy: 0.066667\n",
      "Loss: 1.994342, Train accuracy: 0.666667, val accuracy: 0.133333\n",
      "Loss: 1.661919, Train accuracy: 0.666667, val accuracy: 0.066667\n",
      "Loss: 1.003214, Train accuracy: 0.666667, val accuracy: 0.066667\n",
      "Loss: 1.621973, Train accuracy: 0.666667, val accuracy: 0.000000\n",
      "Loss: 1.867033, Train accuracy: 0.666667, val accuracy: 0.133333\n",
      "Loss: 1.323094, Train accuracy: 0.733333, val accuracy: 0.000000\n",
      "Loss: 1.736536, Train accuracy: 0.733333, val accuracy: 0.066667\n",
      "Loss: 1.187322, Train accuracy: 0.733333, val accuracy: 0.133333\n",
      "Loss: 1.592419, Train accuracy: 0.733333, val accuracy: 0.066667\n",
      "Loss: 0.815257, Train accuracy: 0.733333, val accuracy: 0.000000\n",
      "Loss: 1.611549, Train accuracy: 0.733333, val accuracy: 0.000000\n",
      "Loss: 1.584208, Train accuracy: 0.733333, val accuracy: 0.066667\n",
      "Loss: 1.352038, Train accuracy: 0.733333, val accuracy: 0.066667\n",
      "Loss: 1.551628, Train accuracy: 0.733333, val accuracy: 0.066667\n",
      "Loss: 1.532142, Train accuracy: 0.733333, val accuracy: 0.066667\n",
      "Loss: 1.380635, Train accuracy: 0.733333, val accuracy: 0.066667\n",
      "Loss: 1.318611, Train accuracy: 0.733333, val accuracy: 0.066667\n",
      "Loss: 0.987408, Train accuracy: 0.733333, val accuracy: 0.066667\n",
      "Loss: 0.981736, Train accuracy: 0.733333, val accuracy: 0.066667\n",
      "Loss: 1.681712, Train accuracy: 0.733333, val accuracy: 0.066667\n",
      "Loss: 1.360866, Train accuracy: 0.733333, val accuracy: 0.066667\n",
      "Loss: 1.400249, Train accuracy: 0.733333, val accuracy: 0.066667\n",
      "Loss: 1.513332, Train accuracy: 0.733333, val accuracy: 0.066667\n",
      "Loss: 1.050200, Train accuracy: 0.733333, val accuracy: 0.066667\n",
      "Loss: 1.424323, Train accuracy: 0.733333, val accuracy: 0.066667\n",
      "Loss: 0.825050, Train accuracy: 0.733333, val accuracy: 0.066667\n",
      "Loss: 1.355774, Train accuracy: 0.733333, val accuracy: 0.066667\n",
      "Loss: 1.391143, Train accuracy: 0.733333, val accuracy: 0.066667\n",
      "Loss: 1.602153, Train accuracy: 0.733333, val accuracy: 0.066667\n",
      "Loss: 1.326923, Train accuracy: 0.733333, val accuracy: 0.066667\n",
      "Loss: 1.233839, Train accuracy: 0.733333, val accuracy: 0.066667\n",
      "Loss: 1.451021, Train accuracy: 0.733333, val accuracy: 0.066667\n",
      "Loss: 1.738122, Train accuracy: 0.733333, val accuracy: 0.066667\n",
      "Loss: 0.952624, Train accuracy: 0.733333, val accuracy: 0.066667\n",
      "Loss: 1.557758, Train accuracy: 0.733333, val accuracy: 0.066667\n",
      "Loss: 1.704522, Train accuracy: 0.733333, val accuracy: 0.066667\n",
      "Loss: 1.244311, Train accuracy: 0.733333, val accuracy: 0.066667\n",
      "Loss: 0.937074, Train accuracy: 0.800000, val accuracy: 0.066667\n",
      "Loss: 1.637478, Train accuracy: 0.800000, val accuracy: 0.066667\n",
      "Loss: 1.261258, Train accuracy: 0.800000, val accuracy: 0.066667\n",
      "Loss: 1.670388, Train accuracy: 0.800000, val accuracy: 0.066667\n",
      "Loss: 1.728652, Train accuracy: 0.800000, val accuracy: 0.066667\n",
      "Loss: 1.615397, Train accuracy: 0.866667, val accuracy: 0.066667\n",
      "Loss: 0.885034, Train accuracy: 0.866667, val accuracy: 0.066667\n",
      "Loss: 1.062497, Train accuracy: 0.866667, val accuracy: 0.066667\n",
      "Loss: 1.535694, Train accuracy: 0.866667, val accuracy: 0.066667\n",
      "Loss: 0.984406, Train accuracy: 0.866667, val accuracy: 0.066667\n",
      "Loss: 1.616176, Train accuracy: 0.866667, val accuracy: 0.066667\n",
      "Loss: 0.971432, Train accuracy: 0.866667, val accuracy: 0.066667\n",
      "Loss: 1.354961, Train accuracy: 0.866667, val accuracy: 0.066667\n",
      "Loss: 1.549262, Train accuracy: 0.866667, val accuracy: 0.066667\n",
      "Loss: 1.148040, Train accuracy: 0.866667, val accuracy: 0.066667\n",
      "Loss: 1.896727, Train accuracy: 0.866667, val accuracy: 0.066667\n",
      "Loss: 1.641526, Train accuracy: 0.866667, val accuracy: 0.066667\n",
      "Loss: 1.471268, Train accuracy: 0.933333, val accuracy: 0.066667\n",
      "Loss: 1.242553, Train accuracy: 0.933333, val accuracy: 0.066667\n",
      "Loss: 1.274224, Train accuracy: 0.933333, val accuracy: 0.066667\n",
      "Loss: 1.229044, Train accuracy: 0.933333, val accuracy: 0.066667\n",
      "Loss: 1.405233, Train accuracy: 0.866667, val accuracy: 0.066667\n",
      "Loss: 1.457438, Train accuracy: 0.933333, val accuracy: 0.066667\n",
      "Loss: 1.307600, Train accuracy: 0.933333, val accuracy: 0.066667\n",
      "Loss: 1.244011, Train accuracy: 0.933333, val accuracy: 0.066667\n",
      "Loss: 1.397828, Train accuracy: 0.933333, val accuracy: 0.066667\n",
      "Loss: 1.419882, Train accuracy: 0.933333, val accuracy: 0.000000\n",
      "Loss: 1.735885, Train accuracy: 1.000000, val accuracy: 0.066667\n",
      "Loss: 1.157896, Train accuracy: 0.933333, val accuracy: 0.000000\n",
      "Loss: 1.310604, Train accuracy: 0.933333, val accuracy: 0.000000\n",
      "Loss: 1.643065, Train accuracy: 1.000000, val accuracy: 0.066667\n",
      "Loss: 1.092430, Train accuracy: 0.933333, val accuracy: 0.000000\n",
      "Loss: 1.188443, Train accuracy: 0.933333, val accuracy: 0.000000\n",
      "Loss: 1.064020, Train accuracy: 1.000000, val accuracy: 0.000000\n",
      "Loss: 1.306539, Train accuracy: 1.000000, val accuracy: 0.000000\n",
      "Loss: 1.254271, Train accuracy: 0.933333, val accuracy: 0.000000\n",
      "Loss: 1.269854, Train accuracy: 1.000000, val accuracy: 0.000000\n",
      "Loss: 1.552375, Train accuracy: 1.000000, val accuracy: 0.000000\n",
      "Loss: 1.459107, Train accuracy: 1.000000, val accuracy: 0.000000\n",
      "Loss: 1.148778, Train accuracy: 1.000000, val accuracy: 0.000000\n",
      "Loss: 1.196325, Train accuracy: 1.000000, val accuracy: 0.000000\n",
      "Loss: 1.483002, Train accuracy: 1.000000, val accuracy: 0.000000\n",
      "Loss: 1.384918, Train accuracy: 1.000000, val accuracy: 0.000000\n",
      "Loss: 1.204285, Train accuracy: 1.000000, val accuracy: 0.000000\n",
      "Loss: 1.348924, Train accuracy: 1.000000, val accuracy: 0.000000\n",
      "Loss: 1.287445, Train accuracy: 1.000000, val accuracy: 0.000000\n",
      "Loss: 1.372140, Train accuracy: 1.000000, val accuracy: 0.000000\n",
      "Loss: 1.517152, Train accuracy: 1.000000, val accuracy: 0.000000\n",
      "Loss: 1.269220, Train accuracy: 1.000000, val accuracy: 0.000000\n",
      "Loss: 1.433583, Train accuracy: 1.000000, val accuracy: 0.000000\n",
      "Loss: 1.220745, Train accuracy: 1.000000, val accuracy: 0.000000\n",
      "Loss: 1.174638, Train accuracy: 1.000000, val accuracy: 0.000000\n",
      "Loss: 1.295484, Train accuracy: 1.000000, val accuracy: 0.000000\n",
      "Loss: 1.081943, Train accuracy: 1.000000, val accuracy: 0.000000\n",
      "Loss: 1.135739, Train accuracy: 1.000000, val accuracy: 0.000000\n",
      "Loss: 1.463871, Train accuracy: 1.000000, val accuracy: 0.000000\n",
      "Loss: 1.378500, Train accuracy: 1.000000, val accuracy: 0.000000\n",
      "Loss: 1.212799, Train accuracy: 1.000000, val accuracy: 0.000000\n",
      "Loss: 1.371651, Train accuracy: 1.000000, val accuracy: 0.000000\n",
      "Loss: 1.377812, Train accuracy: 1.000000, val accuracy: 0.000000\n",
      "Loss: 1.424728, Train accuracy: 1.000000, val accuracy: 0.000000\n",
      "Loss: 1.621526, Train accuracy: 1.000000, val accuracy: 0.000000\n",
      "Loss: 1.200221, Train accuracy: 1.000000, val accuracy: 0.000000\n",
      "Loss: 1.306051, Train accuracy: 1.000000, val accuracy: 0.000000\n",
      "Loss: 1.582089, Train accuracy: 1.000000, val accuracy: 0.000000\n",
      "Loss: 1.430956, Train accuracy: 1.000000, val accuracy: 0.000000\n",
      "Loss: 1.207815, Train accuracy: 1.000000, val accuracy: 0.000000\n",
      "Loss: 1.116217, Train accuracy: 1.000000, val accuracy: 0.000000\n",
      "Loss: 1.190656, Train accuracy: 1.000000, val accuracy: 0.000000\n",
      "Loss: 1.147580, Train accuracy: 1.000000, val accuracy: 0.000000\n",
      "Loss: 1.239872, Train accuracy: 1.000000, val accuracy: 0.000000\n"
     ]
    }
   ],
   "source": [
    "data_size = 15\n",
    "model = TwoLayerNet(n_input = train_X.shape[1], n_output = 10, hidden_layer_size = 100, reg = 1e-1)\n",
    "dataset = Dataset(train_X[:data_size], train_y[:data_size], val_X[:data_size], val_y[:data_size])\n",
    "trainer = Trainer(model, dataset, SGD(), learning_rate=1e-1, num_epochs=150, batch_size=5)\n",
    "\n",
    "# You should expect this to reach 1.0 training accuracy \n",
    "loss_history, train_history, val_history = trainer.fit()"
   ]
  },
  {
   "cell_type": "markdown",
   "metadata": {},
   "source": [
    "Теперь найдем гипепараметры, для которых этот процесс сходится быстрее.\n",
    "Если все реализовано корректно, то существуют параметры, при которых процесс сходится в **20** эпох или еще быстрее.\n",
    "Найдите их!"
   ]
  },
  {
   "cell_type": "code",
   "execution_count": 38,
   "metadata": {},
   "outputs": [
    {
     "name": "stdout",
     "output_type": "stream",
     "text": [
      "Loss: 2.272162, Train accuracy: 0.200000, val accuracy: 0.133333\n",
      "Loss: 2.148730, Train accuracy: 0.200000, val accuracy: 0.133333\n",
      "Loss: 2.434167, Train accuracy: 0.200000, val accuracy: 0.133333\n",
      "Loss: 2.168270, Train accuracy: 0.333333, val accuracy: 0.066667\n",
      "Loss: 1.607305, Train accuracy: 0.333333, val accuracy: 0.066667\n",
      "Loss: 2.067792, Train accuracy: 0.466667, val accuracy: 0.000000\n",
      "Loss: 2.458458, Train accuracy: 0.400000, val accuracy: 0.000000\n",
      "Loss: 2.394194, Train accuracy: 0.333333, val accuracy: 0.066667\n",
      "Loss: 2.422199, Train accuracy: 0.333333, val accuracy: 0.000000\n",
      "Loss: 2.488674, Train accuracy: 0.400000, val accuracy: 0.066667\n",
      "Loss: 1.505121, Train accuracy: 0.466667, val accuracy: 0.000000\n",
      "Loss: 0.747855, Train accuracy: 0.533333, val accuracy: 0.000000\n",
      "Loss: 0.197853, Train accuracy: 0.666667, val accuracy: 0.000000\n",
      "Loss: 0.032429, Train accuracy: 0.800000, val accuracy: 0.000000\n",
      "Loss: 0.546462, Train accuracy: 0.733333, val accuracy: 0.000000\n",
      "Loss: 1.252199, Train accuracy: 0.800000, val accuracy: 0.066667\n",
      "Loss: 0.973707, Train accuracy: 0.800000, val accuracy: 0.000000\n",
      "Loss: 0.079684, Train accuracy: 0.866667, val accuracy: 0.000000\n",
      "Loss: 0.027290, Train accuracy: 0.866667, val accuracy: 0.000000\n",
      "Loss: 0.009174, Train accuracy: 1.000000, val accuracy: 0.000000\n"
     ]
    }
   ],
   "source": [
    "# Now, tweak some hyper parameters and make it train to 1.0 accuracy in 20 epochs or less\n",
    "\n",
    "model = TwoLayerNet(n_input = train_X.shape[1], n_output = 10, hidden_layer_size = 100, reg = 1e-6)\n",
    "dataset = Dataset(train_X[:data_size], train_y[:data_size], val_X[:data_size], val_y[:data_size])\n",
    "# TODO: Change any hyperparamers or optimizators to reach training accuracy in 20 epochs\n",
    "trainer = Trainer(model, dataset, SGD(), learning_rate=1e-1, num_epochs=20, batch_size=2)\n",
    "\n",
    "loss_history, train_history, val_history = trainer.fit()"
   ]
  },
  {
   "cell_type": "markdown",
   "metadata": {},
   "source": [
    "# Итак, основное мероприятие!\n",
    "\n",
    "Натренируйте лучшую нейросеть! Можно добавлять и изменять параметры, менять количество нейронов в слоях сети и как угодно экспериментировать. \n",
    "\n",
    "Добейтесь точности лучше **60%** на validation set."
   ]
  },
  {
   "cell_type": "code",
   "execution_count": 39,
   "metadata": {
    "scrolled": true
   },
   "outputs": [
    {
     "name": "stdout",
     "output_type": "stream",
     "text": [
      "Loss: 1.939671, Train accuracy: 0.373000, val accuracy: 0.373000\n",
      "Loss: 1.843149, Train accuracy: 0.525333, val accuracy: 0.538000\n",
      "Loss: 1.384954, Train accuracy: 0.550111, val accuracy: 0.537000\n",
      "Loss: 1.771381, Train accuracy: 0.588667, val accuracy: 0.573000\n",
      "Loss: 1.716477, Train accuracy: 0.620222, val accuracy: 0.588000\n",
      "Loss: 1.780083, Train accuracy: 0.605778, val accuracy: 0.577000\n",
      "Loss: 1.933757, Train accuracy: 0.648333, val accuracy: 0.615000\n",
      "Loss: 1.706906, Train accuracy: 0.658556, val accuracy: 0.652000\n",
      "Loss: 1.618609, Train accuracy: 0.647222, val accuracy: 0.611000\n",
      "Loss: 1.452437, Train accuracy: 0.646667, val accuracy: 0.601000\n",
      "Loss: 1.465388, Train accuracy: 0.603667, val accuracy: 0.570000\n",
      "Loss: 1.509143, Train accuracy: 0.592444, val accuracy: 0.536000\n",
      "Loss: 1.544287, Train accuracy: 0.702778, val accuracy: 0.655000\n",
      "Loss: 1.585565, Train accuracy: 0.639556, val accuracy: 0.601000\n",
      "Loss: 1.462776, Train accuracy: 0.649556, val accuracy: 0.618000\n",
      "Loss: 1.755300, Train accuracy: 0.653667, val accuracy: 0.624000\n",
      "Loss: 2.219631, Train accuracy: 0.196667, val accuracy: 0.206000\n",
      "Loss: 1.754431, Train accuracy: 0.361889, val accuracy: 0.370000\n",
      "Loss: 1.385259, Train accuracy: 0.513333, val accuracy: 0.517000\n",
      "Loss: 1.400703, Train accuracy: 0.606556, val accuracy: 0.598000\n",
      "Loss: 1.236779, Train accuracy: 0.669333, val accuracy: 0.635000\n",
      "Loss: 1.294837, Train accuracy: 0.615778, val accuracy: 0.606000\n",
      "Loss: 1.340340, Train accuracy: 0.664778, val accuracy: 0.618000\n",
      "Loss: 1.550318, Train accuracy: 0.687667, val accuracy: 0.649000\n",
      "Loss: 1.321003, Train accuracy: 0.670000, val accuracy: 0.625000\n",
      "Loss: 1.686295, Train accuracy: 0.693000, val accuracy: 0.653000\n",
      "Loss: 0.936065, Train accuracy: 0.737111, val accuracy: 0.695000\n",
      "Loss: 1.414070, Train accuracy: 0.705000, val accuracy: 0.642000\n",
      "Loss: 1.365047, Train accuracy: 0.751667, val accuracy: 0.692000\n",
      "Loss: 1.133708, Train accuracy: 0.753222, val accuracy: 0.689000\n",
      "Loss: 0.908246, Train accuracy: 0.740000, val accuracy: 0.718000\n",
      "Loss: 0.985359, Train accuracy: 0.705222, val accuracy: 0.657000\n",
      "Loss: 1.679979, Train accuracy: 0.348444, val accuracy: 0.346000\n",
      "Loss: 1.773504, Train accuracy: 0.528111, val accuracy: 0.543000\n",
      "Loss: 1.903230, Train accuracy: 0.521889, val accuracy: 0.506000\n",
      "Loss: 1.515726, Train accuracy: 0.584778, val accuracy: 0.568000\n",
      "Loss: 1.885040, Train accuracy: 0.644667, val accuracy: 0.592000\n",
      "Loss: 1.808924, Train accuracy: 0.614444, val accuracy: 0.605000\n",
      "Loss: 2.155570, Train accuracy: 0.611000, val accuracy: 0.587000\n",
      "Loss: 1.441364, Train accuracy: 0.622778, val accuracy: 0.577000\n",
      "Loss: 1.593975, Train accuracy: 0.583444, val accuracy: 0.592000\n",
      "Loss: 1.558718, Train accuracy: 0.664000, val accuracy: 0.632000\n",
      "Loss: 1.871795, Train accuracy: 0.613667, val accuracy: 0.577000\n",
      "Loss: 1.729546, Train accuracy: 0.619000, val accuracy: 0.578000\n",
      "Loss: 1.825671, Train accuracy: 0.673667, val accuracy: 0.619000\n",
      "Loss: 1.548145, Train accuracy: 0.647778, val accuracy: 0.609000\n",
      "Loss: 1.806532, Train accuracy: 0.635667, val accuracy: 0.585000\n",
      "Loss: 1.382035, Train accuracy: 0.644556, val accuracy: 0.599000\n",
      "Loss: 2.128980, Train accuracy: 0.196667, val accuracy: 0.206000\n",
      "Loss: 1.933067, Train accuracy: 0.380778, val accuracy: 0.363000\n",
      "Loss: 1.486471, Train accuracy: 0.534444, val accuracy: 0.550000\n",
      "Loss: 1.280647, Train accuracy: 0.623222, val accuracy: 0.627000\n",
      "Loss: 1.123275, Train accuracy: 0.658333, val accuracy: 0.644000\n",
      "Loss: 1.459397, Train accuracy: 0.686111, val accuracy: 0.652000\n",
      "Loss: 1.151292, Train accuracy: 0.695556, val accuracy: 0.663000\n",
      "Loss: 1.294353, Train accuracy: 0.687444, val accuracy: 0.654000\n",
      "Loss: 1.210898, Train accuracy: 0.743333, val accuracy: 0.675000\n",
      "Loss: 1.127709, Train accuracy: 0.716000, val accuracy: 0.672000\n",
      "Loss: 1.306619, Train accuracy: 0.734111, val accuracy: 0.671000\n",
      "Loss: 1.601000, Train accuracy: 0.715444, val accuracy: 0.667000\n",
      "Loss: 1.152714, Train accuracy: 0.698667, val accuracy: 0.657000\n",
      "Loss: 1.147875, Train accuracy: 0.751667, val accuracy: 0.680000\n",
      "Loss: 1.103889, Train accuracy: 0.723222, val accuracy: 0.679000\n",
      "Loss: 1.092211, Train accuracy: 0.744889, val accuracy: 0.670000\n",
      "Loss: 1.680665, Train accuracy: 0.403444, val accuracy: 0.414000\n",
      "Loss: 1.609345, Train accuracy: 0.518444, val accuracy: 0.531000\n",
      "Loss: 1.592224, Train accuracy: 0.565111, val accuracy: 0.555000\n",
      "Loss: 1.925510, Train accuracy: 0.639556, val accuracy: 0.639000\n",
      "Loss: 1.579932, Train accuracy: 0.556778, val accuracy: 0.528000\n",
      "Loss: 1.432298, Train accuracy: 0.617556, val accuracy: 0.586000\n",
      "Loss: 1.670038, Train accuracy: 0.671778, val accuracy: 0.642000\n",
      "Loss: 2.888454, Train accuracy: 0.618889, val accuracy: 0.610000\n",
      "Loss: 2.256547, Train accuracy: 0.645556, val accuracy: 0.583000\n",
      "Loss: 1.756483, Train accuracy: 0.655889, val accuracy: 0.636000\n",
      "Loss: 1.421264, Train accuracy: 0.663000, val accuracy: 0.632000\n",
      "Loss: 1.576886, Train accuracy: 0.679778, val accuracy: 0.624000\n",
      "Loss: 2.867117, Train accuracy: 0.647000, val accuracy: 0.599000\n",
      "Loss: 1.748181, Train accuracy: 0.639222, val accuracy: 0.588000\n",
      "Loss: 2.098185, Train accuracy: 0.646444, val accuracy: 0.606000\n",
      "Loss: 1.990185, Train accuracy: 0.673000, val accuracy: 0.625000\n",
      "Loss: 2.030329, Train accuracy: 0.207222, val accuracy: 0.216000\n",
      "Loss: 2.016809, Train accuracy: 0.434889, val accuracy: 0.452000\n",
      "Loss: 1.526569, Train accuracy: 0.575444, val accuracy: 0.587000\n",
      "Loss: 1.191740, Train accuracy: 0.609333, val accuracy: 0.600000\n",
      "Loss: 1.183449, Train accuracy: 0.672889, val accuracy: 0.647000\n",
      "Loss: 1.277284, Train accuracy: 0.677333, val accuracy: 0.642000\n",
      "Loss: 1.113530, Train accuracy: 0.674667, val accuracy: 0.646000\n",
      "Loss: 1.146537, Train accuracy: 0.717667, val accuracy: 0.688000\n",
      "Loss: 1.120810, Train accuracy: 0.725111, val accuracy: 0.682000\n",
      "Loss: 1.559510, Train accuracy: 0.720222, val accuracy: 0.669000\n",
      "Loss: 0.924203, Train accuracy: 0.724889, val accuracy: 0.686000\n",
      "Loss: 1.371372, Train accuracy: 0.747333, val accuracy: 0.687000\n",
      "Loss: 1.305257, Train accuracy: 0.736444, val accuracy: 0.679000\n",
      "Loss: 1.165591, Train accuracy: 0.694667, val accuracy: 0.644000\n",
      "Loss: 0.888106, Train accuracy: 0.743333, val accuracy: 0.698000\n",
      "Loss: 1.183859, Train accuracy: 0.779444, val accuracy: 0.702000\n",
      "Loss: 1.830400, Train accuracy: 0.373333, val accuracy: 0.377000\n",
      "Loss: 1.636660, Train accuracy: 0.512333, val accuracy: 0.505000\n",
      "Loss: 1.623899, Train accuracy: 0.604444, val accuracy: 0.587000\n",
      "Loss: 1.110678, Train accuracy: 0.657667, val accuracy: 0.625000\n",
      "Loss: 1.249242, Train accuracy: 0.656111, val accuracy: 0.633000\n",
      "Loss: 1.038125, Train accuracy: 0.660889, val accuracy: 0.623000\n",
      "Loss: 0.793478, Train accuracy: 0.686222, val accuracy: 0.653000\n",
      "Loss: 1.087982, Train accuracy: 0.671444, val accuracy: 0.631000\n",
      "Loss: 1.350933, Train accuracy: 0.727111, val accuracy: 0.678000\n",
      "Loss: 0.857439, Train accuracy: 0.706111, val accuracy: 0.657000\n",
      "Loss: 0.915253, Train accuracy: 0.724889, val accuracy: 0.647000\n",
      "Loss: 0.495219, Train accuracy: 0.716111, val accuracy: 0.646000\n",
      "Loss: 1.176813, Train accuracy: 0.755000, val accuracy: 0.693000\n",
      "Loss: 0.562534, Train accuracy: 0.744556, val accuracy: 0.676000\n",
      "Loss: 1.098257, Train accuracy: 0.751778, val accuracy: 0.682000\n",
      "Loss: 0.840649, Train accuracy: 0.769222, val accuracy: 0.665000\n",
      "Loss: 2.211790, Train accuracy: 0.196667, val accuracy: 0.206000\n",
      "Loss: 1.784041, Train accuracy: 0.368444, val accuracy: 0.364000\n",
      "Loss: 1.898088, Train accuracy: 0.555333, val accuracy: 0.563000\n",
      "Loss: 1.629399, Train accuracy: 0.638111, val accuracy: 0.605000\n",
      "Loss: 1.065732, Train accuracy: 0.668444, val accuracy: 0.648000\n",
      "Loss: 1.168909, Train accuracy: 0.682444, val accuracy: 0.656000\n",
      "Loss: 0.802145, Train accuracy: 0.705556, val accuracy: 0.672000\n",
      "Loss: 0.713441, Train accuracy: 0.705222, val accuracy: 0.664000\n",
      "Loss: 1.092407, Train accuracy: 0.725333, val accuracy: 0.668000\n",
      "Loss: 0.605528, Train accuracy: 0.761667, val accuracy: 0.694000\n",
      "Loss: 0.890532, Train accuracy: 0.768556, val accuracy: 0.696000\n",
      "Loss: 0.721257, Train accuracy: 0.780111, val accuracy: 0.730000\n",
      "Loss: 0.674308, Train accuracy: 0.791333, val accuracy: 0.702000\n",
      "Loss: 1.242973, Train accuracy: 0.773000, val accuracy: 0.697000\n",
      "Loss: 1.302183, Train accuracy: 0.791222, val accuracy: 0.699000\n",
      "Loss: 0.781673, Train accuracy: 0.803889, val accuracy: 0.716000\n",
      "Loss: 2.008320, Train accuracy: 0.369889, val accuracy: 0.398000\n",
      "Loss: 1.991793, Train accuracy: 0.530778, val accuracy: 0.521000\n",
      "Loss: 1.927206, Train accuracy: 0.602222, val accuracy: 0.581000\n",
      "Loss: 1.928779, Train accuracy: 0.623889, val accuracy: 0.583000\n",
      "Loss: 0.935313, Train accuracy: 0.660444, val accuracy: 0.608000\n",
      "Loss: 1.536600, Train accuracy: 0.687778, val accuracy: 0.638000\n",
      "Loss: 1.185121, Train accuracy: 0.698000, val accuracy: 0.641000\n",
      "Loss: 1.076349, Train accuracy: 0.721000, val accuracy: 0.672000\n",
      "Loss: 0.798418, Train accuracy: 0.715444, val accuracy: 0.635000\n",
      "Loss: 1.470754, Train accuracy: 0.692333, val accuracy: 0.644000\n",
      "Loss: 0.863313, Train accuracy: 0.730556, val accuracy: 0.648000\n",
      "Loss: 0.671505, Train accuracy: 0.731444, val accuracy: 0.668000\n",
      "Loss: 1.541305, Train accuracy: 0.747556, val accuracy: 0.681000\n",
      "Loss: 0.675806, Train accuracy: 0.747556, val accuracy: 0.682000\n",
      "Loss: 0.762174, Train accuracy: 0.780222, val accuracy: 0.698000\n",
      "Loss: 0.842534, Train accuracy: 0.736222, val accuracy: 0.656000\n",
      "Loss: 2.325042, Train accuracy: 0.196667, val accuracy: 0.206000\n",
      "Loss: 1.745247, Train accuracy: 0.439667, val accuracy: 0.424000\n",
      "Loss: 1.150654, Train accuracy: 0.555000, val accuracy: 0.566000\n",
      "Loss: 1.254114, Train accuracy: 0.614111, val accuracy: 0.585000\n",
      "Loss: 1.357062, Train accuracy: 0.663889, val accuracy: 0.625000\n",
      "Loss: 1.008691, Train accuracy: 0.677667, val accuracy: 0.651000\n",
      "Loss: 1.001909, Train accuracy: 0.720111, val accuracy: 0.665000\n",
      "Loss: 1.324927, Train accuracy: 0.749000, val accuracy: 0.680000\n",
      "Loss: 0.457094, Train accuracy: 0.768444, val accuracy: 0.702000\n",
      "Loss: 0.708935, Train accuracy: 0.772222, val accuracy: 0.695000\n",
      "Loss: 0.810406, Train accuracy: 0.774556, val accuracy: 0.696000\n",
      "Loss: 0.387332, Train accuracy: 0.776444, val accuracy: 0.692000\n",
      "Loss: 0.970362, Train accuracy: 0.822000, val accuracy: 0.708000\n",
      "Loss: 0.573086, Train accuracy: 0.826444, val accuracy: 0.719000\n",
      "Loss: 0.827544, Train accuracy: 0.802778, val accuracy: 0.715000\n",
      "Loss: 1.159228, Train accuracy: 0.805222, val accuracy: 0.695000\n",
      "Loss: 1.808416, Train accuracy: 0.411222, val accuracy: 0.392000\n",
      "Loss: 1.475501, Train accuracy: 0.521667, val accuracy: 0.509000\n",
      "Loss: 1.674082, Train accuracy: 0.587000, val accuracy: 0.571000\n",
      "Loss: 1.035380, Train accuracy: 0.647444, val accuracy: 0.611000\n",
      "Loss: 1.395932, Train accuracy: 0.607333, val accuracy: 0.562000\n",
      "Loss: 1.610058, Train accuracy: 0.666111, val accuracy: 0.617000\n",
      "Loss: 1.804936, Train accuracy: 0.684889, val accuracy: 0.653000\n",
      "Loss: 1.474661, Train accuracy: 0.695444, val accuracy: 0.631000\n",
      "Loss: 1.339761, Train accuracy: 0.694556, val accuracy: 0.642000\n",
      "Loss: 0.954627, Train accuracy: 0.725333, val accuracy: 0.648000\n",
      "Loss: 1.127642, Train accuracy: 0.739556, val accuracy: 0.645000\n",
      "Loss: 1.472010, Train accuracy: 0.738667, val accuracy: 0.660000\n",
      "Loss: 0.852587, Train accuracy: 0.716444, val accuracy: 0.633000\n",
      "Loss: 1.849672, Train accuracy: 0.763444, val accuracy: 0.676000\n",
      "Loss: 0.896281, Train accuracy: 0.750556, val accuracy: 0.635000\n",
      "Loss: 0.592470, Train accuracy: 0.803556, val accuracy: 0.678000\n",
      "Loss: 1.933597, Train accuracy: 0.203111, val accuracy: 0.204000\n",
      "Loss: 1.804648, Train accuracy: 0.453667, val accuracy: 0.453000\n",
      "Loss: 1.215102, Train accuracy: 0.564444, val accuracy: 0.572000\n",
      "Loss: 1.038475, Train accuracy: 0.682778, val accuracy: 0.653000\n",
      "Loss: 0.904560, Train accuracy: 0.690000, val accuracy: 0.644000\n",
      "Loss: 1.058074, Train accuracy: 0.687667, val accuracy: 0.636000\n",
      "Loss: 0.935701, Train accuracy: 0.735889, val accuracy: 0.692000\n",
      "Loss: 1.137442, Train accuracy: 0.748778, val accuracy: 0.692000\n",
      "Loss: 0.839256, Train accuracy: 0.773778, val accuracy: 0.695000\n",
      "Loss: 0.913992, Train accuracy: 0.763667, val accuracy: 0.683000\n",
      "Loss: 0.661061, Train accuracy: 0.774778, val accuracy: 0.686000\n",
      "Loss: 1.268898, Train accuracy: 0.809222, val accuracy: 0.721000\n",
      "Loss: 0.817750, Train accuracy: 0.796778, val accuracy: 0.699000\n",
      "Loss: 0.600893, Train accuracy: 0.817778, val accuracy: 0.712000\n",
      "Loss: 0.727331, Train accuracy: 0.795333, val accuracy: 0.684000\n",
      "Loss: 0.744614, Train accuracy: 0.810111, val accuracy: 0.712000\n",
      "Loss: 2.240679, Train accuracy: 0.196667, val accuracy: 0.206000\n",
      "Loss: 2.288799, Train accuracy: 0.196667, val accuracy: 0.206000\n",
      "Loss: 2.123085, Train accuracy: 0.196667, val accuracy: 0.206000\n",
      "Loss: 2.046478, Train accuracy: 0.258444, val accuracy: 0.252000\n",
      "Loss: 1.897392, Train accuracy: 0.282778, val accuracy: 0.291000\n",
      "Loss: 1.758417, Train accuracy: 0.364333, val accuracy: 0.365000\n",
      "Loss: 1.851258, Train accuracy: 0.429111, val accuracy: 0.427000\n",
      "Loss: 1.570801, Train accuracy: 0.478333, val accuracy: 0.481000\n",
      "Loss: 1.329945, Train accuracy: 0.518556, val accuracy: 0.510000\n",
      "Loss: 1.400131, Train accuracy: 0.586667, val accuracy: 0.576000\n",
      "Loss: 1.624933, Train accuracy: 0.611333, val accuracy: 0.604000\n",
      "Loss: 1.412886, Train accuracy: 0.637889, val accuracy: 0.624000\n",
      "Loss: 1.233200, Train accuracy: 0.656778, val accuracy: 0.631000\n",
      "Loss: 1.269284, Train accuracy: 0.681667, val accuracy: 0.647000\n",
      "Loss: 1.165038, Train accuracy: 0.696667, val accuracy: 0.663000\n",
      "Loss: 1.585985, Train accuracy: 0.695444, val accuracy: 0.660000\n",
      "Loss: 2.257282, Train accuracy: 0.196667, val accuracy: 0.206000\n",
      "Loss: 2.235574, Train accuracy: 0.196667, val accuracy: 0.206000\n",
      "Loss: 2.382762, Train accuracy: 0.196667, val accuracy: 0.206000\n",
      "Loss: 2.248418, Train accuracy: 0.196667, val accuracy: 0.206000\n",
      "Loss: 2.222305, Train accuracy: 0.196667, val accuracy: 0.206000\n",
      "Loss: 2.094513, Train accuracy: 0.196667, val accuracy: 0.206000\n",
      "Loss: 1.976147, Train accuracy: 0.219778, val accuracy: 0.223000\n",
      "Loss: 2.189735, Train accuracy: 0.261222, val accuracy: 0.257000\n",
      "Loss: 1.840659, Train accuracy: 0.276667, val accuracy: 0.276000\n",
      "Loss: 1.996546, Train accuracy: 0.311444, val accuracy: 0.311000\n",
      "Loss: 1.857032, Train accuracy: 0.362667, val accuracy: 0.363000\n",
      "Loss: 1.796164, Train accuracy: 0.412667, val accuracy: 0.402000\n",
      "Loss: 1.831524, Train accuracy: 0.441889, val accuracy: 0.434000\n",
      "Loss: 1.496837, Train accuracy: 0.472444, val accuracy: 0.467000\n",
      "Loss: 1.342597, Train accuracy: 0.506889, val accuracy: 0.517000\n",
      "Loss: 1.422558, Train accuracy: 0.533000, val accuracy: 0.523000\n",
      "Loss: 2.259647, Train accuracy: 0.196667, val accuracy: 0.206000\n",
      "Loss: 2.213706, Train accuracy: 0.196667, val accuracy: 0.206000\n",
      "Loss: 2.331849, Train accuracy: 0.196667, val accuracy: 0.206000\n",
      "Loss: 2.038513, Train accuracy: 0.247000, val accuracy: 0.245000\n",
      "Loss: 1.781696, Train accuracy: 0.310778, val accuracy: 0.312000\n",
      "Loss: 1.937402, Train accuracy: 0.386222, val accuracy: 0.380000\n",
      "Loss: 1.616474, Train accuracy: 0.456222, val accuracy: 0.440000\n",
      "Loss: 1.755538, Train accuracy: 0.539667, val accuracy: 0.540000\n",
      "Loss: 1.461717, Train accuracy: 0.581000, val accuracy: 0.571000\n",
      "Loss: 1.224178, Train accuracy: 0.613667, val accuracy: 0.604000\n",
      "Loss: 1.371413, Train accuracy: 0.647444, val accuracy: 0.624000\n",
      "Loss: 1.211825, Train accuracy: 0.674333, val accuracy: 0.653000\n",
      "Loss: 0.947535, Train accuracy: 0.671556, val accuracy: 0.658000\n",
      "Loss: 1.304830, Train accuracy: 0.701333, val accuracy: 0.692000\n",
      "Loss: 1.418706, Train accuracy: 0.707556, val accuracy: 0.696000\n",
      "Loss: 0.856038, Train accuracy: 0.708333, val accuracy: 0.694000\n",
      "Loss: 2.215813, Train accuracy: 0.196667, val accuracy: 0.206000\n",
      "Loss: 2.225820, Train accuracy: 0.196667, val accuracy: 0.206000\n",
      "Loss: 2.221150, Train accuracy: 0.196667, val accuracy: 0.206000\n",
      "Loss: 2.192940, Train accuracy: 0.196667, val accuracy: 0.206000\n",
      "Loss: 2.169016, Train accuracy: 0.196667, val accuracy: 0.206000\n",
      "Loss: 1.956438, Train accuracy: 0.196667, val accuracy: 0.206000\n",
      "Loss: 2.262871, Train accuracy: 0.241444, val accuracy: 0.246000\n",
      "Loss: 2.191578, Train accuracy: 0.267333, val accuracy: 0.268000\n",
      "Loss: 2.028175, Train accuracy: 0.292556, val accuracy: 0.295000\n",
      "Loss: 2.030020, Train accuracy: 0.347889, val accuracy: 0.352000\n",
      "Loss: 1.695344, Train accuracy: 0.386889, val accuracy: 0.372000\n",
      "Loss: 1.668162, Train accuracy: 0.424222, val accuracy: 0.414000\n",
      "Loss: 1.885948, Train accuracy: 0.468333, val accuracy: 0.458000\n",
      "Loss: 1.266560, Train accuracy: 0.497889, val accuracy: 0.487000\n",
      "Loss: 1.648484, Train accuracy: 0.524889, val accuracy: 0.510000\n",
      "Loss: 1.488125, Train accuracy: 0.559222, val accuracy: 0.540000\n",
      "Loss: 2.206308, Train accuracy: 0.196667, val accuracy: 0.206000\n",
      "Loss: 2.202297, Train accuracy: 0.196667, val accuracy: 0.206000\n",
      "Loss: 2.265487, Train accuracy: 0.206222, val accuracy: 0.210000\n",
      "Loss: 2.089569, Train accuracy: 0.276667, val accuracy: 0.279000\n",
      "Loss: 1.888394, Train accuracy: 0.358556, val accuracy: 0.352000\n",
      "Loss: 1.492880, Train accuracy: 0.436556, val accuracy: 0.420000\n",
      "Loss: 1.407048, Train accuracy: 0.520778, val accuracy: 0.512000\n",
      "Loss: 1.537671, Train accuracy: 0.572444, val accuracy: 0.565000\n",
      "Loss: 1.393976, Train accuracy: 0.606222, val accuracy: 0.590000\n",
      "Loss: 1.426782, Train accuracy: 0.639000, val accuracy: 0.616000\n",
      "Loss: 0.991095, Train accuracy: 0.659333, val accuracy: 0.650000\n",
      "Loss: 1.319967, Train accuracy: 0.686889, val accuracy: 0.686000\n",
      "Loss: 1.099187, Train accuracy: 0.710778, val accuracy: 0.686000\n",
      "Loss: 0.844313, Train accuracy: 0.724667, val accuracy: 0.699000\n",
      "Loss: 1.278446, Train accuracy: 0.721667, val accuracy: 0.702000\n",
      "Loss: 1.022636, Train accuracy: 0.745333, val accuracy: 0.711000\n",
      "Loss: 2.288079, Train accuracy: 0.196667, val accuracy: 0.206000\n",
      "Loss: 2.097008, Train accuracy: 0.196667, val accuracy: 0.206000\n",
      "Loss: 2.114484, Train accuracy: 0.196667, val accuracy: 0.206000\n",
      "Loss: 2.220116, Train accuracy: 0.196667, val accuracy: 0.206000\n",
      "Loss: 2.209763, Train accuracy: 0.196667, val accuracy: 0.206000\n",
      "Loss: 2.208981, Train accuracy: 0.206667, val accuracy: 0.216000\n",
      "Loss: 2.244444, Train accuracy: 0.253111, val accuracy: 0.256000\n",
      "Loss: 1.994582, Train accuracy: 0.279111, val accuracy: 0.276000\n",
      "Loss: 2.099704, Train accuracy: 0.307778, val accuracy: 0.308000\n",
      "Loss: 2.115054, Train accuracy: 0.359333, val accuracy: 0.361000\n",
      "Loss: 1.651883, Train accuracy: 0.401556, val accuracy: 0.388000\n",
      "Loss: 1.510298, Train accuracy: 0.437222, val accuracy: 0.447000\n",
      "Loss: 1.514064, Train accuracy: 0.500667, val accuracy: 0.480000\n",
      "Loss: 1.567966, Train accuracy: 0.523778, val accuracy: 0.513000\n",
      "Loss: 1.433807, Train accuracy: 0.551667, val accuracy: 0.548000\n",
      "Loss: 1.321076, Train accuracy: 0.572222, val accuracy: 0.562000\n",
      "Loss: 2.301874, Train accuracy: 0.196667, val accuracy: 0.206000\n",
      "Loss: 2.312713, Train accuracy: 0.196667, val accuracy: 0.206000\n",
      "Loss: 2.192060, Train accuracy: 0.196667, val accuracy: 0.206000\n",
      "Loss: 2.137981, Train accuracy: 0.242667, val accuracy: 0.246000\n",
      "Loss: 1.896147, Train accuracy: 0.302556, val accuracy: 0.309000\n",
      "Loss: 1.919627, Train accuracy: 0.392667, val accuracy: 0.390000\n",
      "Loss: 1.873340, Train accuracy: 0.461111, val accuracy: 0.458000\n",
      "Loss: 1.474618, Train accuracy: 0.521000, val accuracy: 0.504000\n",
      "Loss: 1.088534, Train accuracy: 0.564778, val accuracy: 0.552000\n",
      "Loss: 1.330117, Train accuracy: 0.603000, val accuracy: 0.613000\n",
      "Loss: 1.064190, Train accuracy: 0.644667, val accuracy: 0.636000\n",
      "Loss: 1.109898, Train accuracy: 0.661444, val accuracy: 0.643000\n",
      "Loss: 0.966857, Train accuracy: 0.677111, val accuracy: 0.672000\n",
      "Loss: 1.050418, Train accuracy: 0.691333, val accuracy: 0.669000\n",
      "Loss: 1.059058, Train accuracy: 0.702444, val accuracy: 0.672000\n",
      "Loss: 1.042008, Train accuracy: 0.716222, val accuracy: 0.695000\n",
      "Loss: 2.209856, Train accuracy: 0.196667, val accuracy: 0.206000\n",
      "Loss: 2.247619, Train accuracy: 0.196667, val accuracy: 0.206000\n",
      "Loss: 2.269318, Train accuracy: 0.196667, val accuracy: 0.206000\n",
      "Loss: 2.191276, Train accuracy: 0.196667, val accuracy: 0.206000\n",
      "Loss: 2.269715, Train accuracy: 0.196667, val accuracy: 0.206000\n",
      "Loss: 2.019774, Train accuracy: 0.196667, val accuracy: 0.206000\n",
      "Loss: 2.065905, Train accuracy: 0.220222, val accuracy: 0.226000\n",
      "Loss: 2.113308, Train accuracy: 0.246444, val accuracy: 0.250000\n",
      "Loss: 2.148109, Train accuracy: 0.274556, val accuracy: 0.271000\n",
      "Loss: 2.188580, Train accuracy: 0.283889, val accuracy: 0.288000\n",
      "Loss: 1.906158, Train accuracy: 0.336222, val accuracy: 0.338000\n",
      "Loss: 1.758615, Train accuracy: 0.377333, val accuracy: 0.368000\n",
      "Loss: 1.553545, Train accuracy: 0.418556, val accuracy: 0.404000\n",
      "Loss: 1.862656, Train accuracy: 0.459444, val accuracy: 0.449000\n",
      "Loss: 1.752297, Train accuracy: 0.504556, val accuracy: 0.492000\n",
      "Loss: 1.463174, Train accuracy: 0.538556, val accuracy: 0.523000\n",
      "Loss: 2.202369, Train accuracy: 0.196667, val accuracy: 0.206000\n",
      "Loss: 2.142728, Train accuracy: 0.196667, val accuracy: 0.206000\n",
      "Loss: 2.177621, Train accuracy: 0.196667, val accuracy: 0.206000\n",
      "Loss: 2.233911, Train accuracy: 0.260222, val accuracy: 0.263000\n",
      "Loss: 1.812046, Train accuracy: 0.311222, val accuracy: 0.321000\n",
      "Loss: 1.694589, Train accuracy: 0.402889, val accuracy: 0.404000\n",
      "Loss: 1.621913, Train accuracy: 0.489667, val accuracy: 0.476000\n",
      "Loss: 1.440116, Train accuracy: 0.541444, val accuracy: 0.534000\n",
      "Loss: 1.516355, Train accuracy: 0.608000, val accuracy: 0.591000\n",
      "Loss: 1.236606, Train accuracy: 0.624444, val accuracy: 0.613000\n",
      "Loss: 1.205678, Train accuracy: 0.664000, val accuracy: 0.659000\n",
      "Loss: 0.849567, Train accuracy: 0.693889, val accuracy: 0.680000\n",
      "Loss: 0.606156, Train accuracy: 0.702667, val accuracy: 0.677000\n",
      "Loss: 1.174912, Train accuracy: 0.718667, val accuracy: 0.700000\n",
      "Loss: 0.949091, Train accuracy: 0.728778, val accuracy: 0.700000\n",
      "Loss: 0.788406, Train accuracy: 0.740556, val accuracy: 0.707000\n",
      "Loss: 2.233134, Train accuracy: 0.196667, val accuracy: 0.206000\n",
      "Loss: 2.227108, Train accuracy: 0.196667, val accuracy: 0.206000\n",
      "Loss: 2.120851, Train accuracy: 0.196667, val accuracy: 0.206000\n",
      "Loss: 2.266906, Train accuracy: 0.196667, val accuracy: 0.206000\n",
      "Loss: 2.109289, Train accuracy: 0.196667, val accuracy: 0.206000\n",
      "Loss: 2.137304, Train accuracy: 0.196667, val accuracy: 0.206000\n",
      "Loss: 2.176165, Train accuracy: 0.240444, val accuracy: 0.248000\n",
      "Loss: 2.064813, Train accuracy: 0.271556, val accuracy: 0.271000\n",
      "Loss: 1.945740, Train accuracy: 0.284444, val accuracy: 0.288000\n",
      "Loss: 1.920974, Train accuracy: 0.344778, val accuracy: 0.354000\n",
      "Loss: 1.472241, Train accuracy: 0.388556, val accuracy: 0.381000\n",
      "Loss: 1.620678, Train accuracy: 0.437889, val accuracy: 0.418000\n",
      "Loss: 1.519045, Train accuracy: 0.474778, val accuracy: 0.467000\n",
      "Loss: 1.383459, Train accuracy: 0.502333, val accuracy: 0.492000\n",
      "Loss: 1.436817, Train accuracy: 0.540222, val accuracy: 0.542000\n",
      "Loss: 1.455902, Train accuracy: 0.569444, val accuracy: 0.556000\n",
      "Loss: 2.253040, Train accuracy: 0.196667, val accuracy: 0.206000\n",
      "Loss: 2.064550, Train accuracy: 0.196667, val accuracy: 0.206000\n",
      "Loss: 2.165001, Train accuracy: 0.208111, val accuracy: 0.214000\n",
      "Loss: 2.051214, Train accuracy: 0.280667, val accuracy: 0.282000\n",
      "Loss: 1.854548, Train accuracy: 0.355556, val accuracy: 0.364000\n",
      "Loss: 1.641388, Train accuracy: 0.439889, val accuracy: 0.438000\n",
      "Loss: 1.550946, Train accuracy: 0.509000, val accuracy: 0.508000\n",
      "Loss: 1.419531, Train accuracy: 0.576889, val accuracy: 0.571000\n",
      "Loss: 1.271765, Train accuracy: 0.619333, val accuracy: 0.618000\n",
      "Loss: 1.215048, Train accuracy: 0.652556, val accuracy: 0.640000\n",
      "Loss: 1.293429, Train accuracy: 0.684000, val accuracy: 0.675000\n",
      "Loss: 1.376677, Train accuracy: 0.697556, val accuracy: 0.679000\n",
      "Loss: 0.948288, Train accuracy: 0.716889, val accuracy: 0.691000\n",
      "Loss: 1.195662, Train accuracy: 0.728111, val accuracy: 0.703000\n",
      "Loss: 0.642313, Train accuracy: 0.734333, val accuracy: 0.690000\n",
      "Loss: 1.054827, Train accuracy: 0.748667, val accuracy: 0.704000\n",
      "Loss: 2.240659, Train accuracy: 0.196667, val accuracy: 0.206000\n",
      "Loss: 2.238037, Train accuracy: 0.196667, val accuracy: 0.206000\n",
      "Loss: 2.271417, Train accuracy: 0.196667, val accuracy: 0.206000\n",
      "Loss: 2.176595, Train accuracy: 0.196667, val accuracy: 0.206000\n",
      "Loss: 2.145636, Train accuracy: 0.196667, val accuracy: 0.206000\n",
      "Loss: 1.896298, Train accuracy: 0.218889, val accuracy: 0.223000\n",
      "Loss: 1.975197, Train accuracy: 0.255444, val accuracy: 0.255000\n",
      "Loss: 2.117479, Train accuracy: 0.285222, val accuracy: 0.292000\n",
      "Loss: 1.774081, Train accuracy: 0.317889, val accuracy: 0.321000\n",
      "Loss: 1.881930, Train accuracy: 0.373889, val accuracy: 0.370000\n",
      "Loss: 1.591214, Train accuracy: 0.419889, val accuracy: 0.403000\n",
      "Loss: 1.529713, Train accuracy: 0.466667, val accuracy: 0.469000\n",
      "Loss: 1.381487, Train accuracy: 0.502556, val accuracy: 0.483000\n",
      "Loss: 1.314363, Train accuracy: 0.543667, val accuracy: 0.525000\n",
      "Loss: 1.339474, Train accuracy: 0.568222, val accuracy: 0.567000\n",
      "Loss: 1.440997, Train accuracy: 0.598000, val accuracy: 0.580000\n",
      "best validation accuracy achieved: 0.716000\n"
     ]
    }
   ],
   "source": [
    "# Let's train the best one-hidden-layer network we can\n",
    "\n",
    "learning_rates = [1e-1, 1e-2]\n",
    "reg_strength = [1e-3, 1e-5]\n",
    "hidden_layer_sizes = [64, 128, 256]\n",
    "batch_size = [64, 128]\n",
    "num_epochs = 16\n",
    "\n",
    "best_classifier = None\n",
    "best_val_accuracy = 0\n",
    "\n",
    "loss_history = []\n",
    "train_history = []\n",
    "val_history = []\n",
    "\n",
    "dataset = Dataset(train_X, train_y, val_X, val_y)\n",
    "\n",
    "# TODO find the best hyperparameters to train the network\n",
    "# Don't hesitate to add new values to the arrays above, perform experiments, use any tricks you want\n",
    "# You should expect to get to at least 40% of valudation accuracy\n",
    "# Save loss/train/history of the best classifier to the variables above\n",
    "for lr in learning_rates:\n",
    "    for rs in reg_strength:\n",
    "        for ls in hidden_layer_sizes:\n",
    "            for bs in batch_size:\n",
    "                model = TwoLayerNet(n_input=train_X.shape[1], n_output=10, hidden_layer_size=ls, reg=rs)\n",
    "                trainer = Trainer(model, dataset, MomentumSGD(), learning_rate=lr, num_epochs=num_epochs, batch_size=bs)\n",
    "                temp_loss_history, temp_train_history, temp_val_history = trainer.fit()\n",
    "                \n",
    "                if temp_val_history[-1] > best_val_accuracy:\n",
    "                    best_classifier = model\n",
    "                    best_val_accuracy = temp_val_history[-1]\n",
    "                    loss_history = temp_loss_history.copy()\n",
    "                    train_history = temp_train_history.copy()\n",
    "                    val_history = temp_val_history.copy()\n",
    "\n",
    "print('best validation accuracy achieved: %f' % best_val_accuracy)"
   ]
  },
  {
   "cell_type": "code",
   "execution_count": 40,
   "metadata": {},
   "outputs": [
    {
     "data": {
      "text/plain": [
       "[<matplotlib.lines.Line2D at 0x1fdc3855220>]"
      ]
     },
     "execution_count": 40,
     "metadata": {},
     "output_type": "execute_result"
    },
    {
     "data": {
      "image/png": "[encoded data removed]",
      "text/plain": [
       "<Figure size 1500x700 with 2 Axes>"
      ]
     },
     "metadata": {},
     "output_type": "display_data"
    }
   ],
   "source": [
    "plt.figure(figsize=(15, 7))\n",
    "plt.subplot(211)\n",
    "plt.title(\"Loss\")\n",
    "plt.plot(loss_history)\n",
    "plt.subplot(212)\n",
    "plt.title(\"Train/validation accuracy\")\n",
    "plt.plot(train_history)\n",
    "plt.plot(val_history)"
   ]
  },
  {
   "cell_type": "markdown",
   "metadata": {},
   "source": [
    "# Как обычно, посмотрим, как наша лучшая модель работает на тестовых данных"
   ]
  },
  {
   "cell_type": "code",
   "execution_count": 41,
   "metadata": {},
   "outputs": [
    {
     "name": "stdout",
     "output_type": "stream",
     "text": [
      "Neural net test set accuracy: 0.688000\n"
     ]
    }
   ],
   "source": [
    "test_pred = best_classifier.predict(test_X)\n",
    "test_accuracy = multiclass_accuracy(test_pred, test_y)\n",
    "print('Neural net test set accuracy: %f' % (test_accuracy, ))"
   ]
  },
  {
   "cell_type": "code",
   "execution_count": null,
   "metadata": {},
   "outputs": [],
   "source": []
  }
 ],
 "metadata": {
  "kernelspec": {
   "display_name": "Python 3 (ipykernel)",
   "language": "python",
   "name": "python3"
  },
  "language_info": {
   "codemirror_mode": {
    "name": "ipython",
    "version": 3
   },
   "file_extension": ".py",
   "mimetype": "text/x-python",
   "name": "python",
   "nbconvert_exporter": "python",
   "pygments_lexer": "ipython3",
   "version": "3.12.0"
  }
 },
 "nbformat": 4,
 "nbformat_minor": 4
}
